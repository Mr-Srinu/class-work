{
 "cells": [
  {
   "cell_type": "code",
   "execution_count": 2,
   "id": "1fb7bfdf",
   "metadata": {},
   "outputs": [
    {
     "name": "stdout",
     "output_type": "stream",
     "text": [
      "generating random numbers\n",
      "8\n",
      "enter y or ny\n",
      "generating random numbers\n",
      "10\n",
      "enter y or ny\n",
      "generating random numbers\n",
      "5\n",
      "enter y or nn\n",
      "invalid\n",
      "press y or nn\n",
      "all done!\n"
     ]
    }
   ],
   "source": [
    "import random\n",
    "action='y'\n",
    "while action=='y':\n",
    "    print(\"generating random numbers\")\n",
    "    rand=random.randint(1,10)\n",
    "    print(rand)\n",
    "    action=input(\"enter y or n\")\n",
    "    while action!='y':\n",
    "        print(\"invalid\")\n",
    "        action=input(\"press y or n\")\n",
    "        if action=='n':\n",
    "            break;\n",
    "print(\"all done!\")\n",
    "    \n",
    "    "
   ]
  },
  {
   "cell_type": "code",
   "execution_count": 14,
   "id": "c92e1d11",
   "metadata": {},
   "outputs": [
    {
     "name": "stdout",
     "output_type": "stream",
     "text": [
      "[0, 1, 0, 1, 0, 0, 1, 1, 0, 0, 0, 0, 0, 1, 1, 0, 0, 0, 0, 1, 0, 1, 0, 0, 1, 0, 1, 1, 0, 0, 1, 0, 0, 0, 0, 0, 1, 1, 0, 1, 0, 1, 1, 1, 0, 0, 0, 1, 1, 1, 0, 1, 0, 0, 0, 0, 1, 0, 1, 1, 0, 0, 1, 0, 1, 0, 0, 0, 1, 1, 1, 0, 1, 0, 1, 0, 0, 0, 0, 1, 1, 0, 1, 1, 1, 1, 1, 0, 0, 1, 1, 0, 0, 0, 0, 0, 1, 0, 1, 1]\n",
      "5\n"
     ]
    }
   ],
   "source": [
    "import random\n",
    "l=list()\n",
    "max=0\n",
    "count=0\n",
    "for i in range(0,100):\n",
    "    l.append(random.randint(0,1))\n",
    "print(l)\n",
    "for j in l:\n",
    "        if j==0:\n",
    "            count=count+1\n",
    "        else:\n",
    "            if count>max:\n",
    "                max=count\n",
    "            count=0\n",
    "print(max)"
   ]
  },
  {
   "cell_type": "code",
   "execution_count": 24,
   "id": "c501e5b8",
   "metadata": {},
   "outputs": [
    {
     "name": "stdout",
     "output_type": "stream",
     "text": [
      "enter size of the list5\n",
      "1\n",
      "2\n",
      "3\n",
      "1\n",
      "2\n",
      "[1, 2, 3]\n"
     ]
    }
   ],
   "source": [
    "l=[]\n",
    "n=int(input(\"enter size of the list\"))\n",
    "for i in range(0,n):\n",
    "    e=int(input())\n",
    "    l.append(e)\n",
    "l1=list()\n",
    "for i in l:\n",
    "    if i not in l1:\n",
    "        l1.append(i)\n",
    "print(l1)"
   ]
  },
  {
   "cell_type": "markdown",
   "id": "66015b27",
   "metadata": {},
   "source": []
  },
  {
   "cell_type": "code",
   "execution_count": 1,
   "id": "3d444dcc",
   "metadata": {},
   "outputs": [
    {
     "name": "stdout",
     "output_type": "stream",
     "text": [
      "enter a number:25674\n",
      "24\n"
     ]
    }
   ],
   "source": [
    "def sum_digits():\n",
    "    div=0\n",
    "    sum=0\n",
    "    n=int(input(\"enter a number:\"))\n",
    "    while n>0:\n",
    "        div=n%10\n",
    "        n=n//10 \n",
    "        sum=sum+div \n",
    "    print(sum)\n",
    "sum_digits()\n",
    "    "
   ]
  },
  {
   "cell_type": "code",
   "execution_count": 3,
   "id": "99a43b06",
   "metadata": {},
   "outputs": [
    {
     "name": "stdout",
     "output_type": "stream",
     "text": [
      "enter a string :srkr\n",
      "enter another string :srkr\n"
     ]
    },
    {
     "data": {
      "text/plain": [
       "-1"
      ]
     },
     "execution_count": 3,
     "metadata": {},
     "output_type": "execute_result"
    }
   ],
   "source": [
    "def first_diff():    \n",
    "    s=input(\"enter a string :\")\n",
    "    s1=input(\"enter another string :\")\n",
    "    if len(s)>=len(s1):\n",
    "        for i in range(0,len(s)):\n",
    "            if s[i]==s1[i]:\n",
    "                if i==len(s)-1:\n",
    "                    return -1\n",
    "            else:\n",
    "                return i+1\n",
    "    else:\n",
    "        for i in range(0,len(s1)):\n",
    "            if s1[i]==s[i]:\n",
    "                if i==len(s1)-1:\n",
    "                    return -1\n",
    "            else:\n",
    "                return i+1\n",
    "        \n",
    "first_diff()"
   ]
  },
  {
   "cell_type": "code",
   "execution_count": 2,
   "id": "67d4148a",
   "metadata": {},
   "outputs": [
    {
     "name": "stdout",
     "output_type": "stream",
     "text": [
      "enter a number:4\n",
      "1\n",
      "2\n",
      "4\n"
     ]
    }
   ],
   "source": [
    "def factors(n):\n",
    "    \n",
    "    for i in range(1,n+1):\n",
    "        if n%i==0:\n",
    "            print(i)\n",
    "n=int(input(\"enter a number:\"))\n",
    "factors(n)\n"
   ]
  },
  {
   "cell_type": "code",
   "execution_count": 7,
   "id": "1482b398",
   "metadata": {},
   "outputs": [
    {
     "name": "stdout",
     "output_type": "stream",
     "text": [
      "100.0\n",
      "0.8939966636005579\n",
      "3.141592653589793\n",
      "-0.4480736161291701\n",
      "-1.995200412208242\n",
      "2.0\n",
      "54.598150033144236\n",
      "0.0\n",
      "1.0\n",
      "120\n"
     ]
    }
   ],
   "source": [
    "import math as m\n",
    "print(m.pow(10,2))\n",
    "print(m.sin(90))\n",
    "print(m.pi)\n",
    "print(m.cos(90))\n",
    "print(m.tan(90))\n",
    "print(m.sqrt(4))\n",
    "print(m.exp(4**1))\n",
    "print(m.log(1))\n",
    "print(m.log10(10))\n",
    "print(m.factorial(5))"
   ]
  },
  {
   "cell_type": "code",
   "execution_count": 21,
   "id": "27465326",
   "metadata": {},
   "outputs": [
    {
     "name": "stdout",
     "output_type": "stream",
     "text": [
      "2\n",
      "2\n",
      "1\n",
      "[4, 2, 6, 1]\n",
      "None\n"
     ]
    }
   ],
   "source": [
    "import random as r\n",
    "l=[1,2,3,4,5,6,7,7,8,9,9,10]\n",
    "print(r.choice(l))\n",
    "print(r.randint(1,20))\n",
    "print(r.randrange(1,10,2))\n",
    "print(r.sample(l,4))\n",
    "l1=r.shuffle(l)\n",
    "print(r.shuffle(l))"
   ]
  },
  {
   "cell_type": "code",
   "execution_count": null,
   "id": "4384e203",
   "metadata": {},
   "outputs": [],
   "source": []
  }
 ],
 "metadata": {
  "kernelspec": {
   "display_name": "Python 3 (ipykernel)",
   "language": "python",
   "name": "python3"
  },
  "language_info": {
   "codemirror_mode": {
    "name": "ipython",
    "version": 3
   },
   "file_extension": ".py",
   "mimetype": "text/x-python",
   "name": "python",
   "nbconvert_exporter": "python",
   "pygments_lexer": "ipython3",
   "version": "3.9.7"
  }
 },
 "nbformat": 4,
 "nbformat_minor": 5
}
