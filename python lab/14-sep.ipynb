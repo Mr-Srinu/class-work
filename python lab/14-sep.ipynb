{
 "cells": [
  {
   "cell_type": "code",
   "execution_count": 30,
   "id": "3abbc4c6",
   "metadata": {},
   "outputs": [
    {
     "name": "stdout",
     "output_type": "stream",
     "text": [
      "enter an expression: 6x+3\n",
      "0\n",
      "1\n",
      "2\n",
      "3\n",
      "index out of bounds\n",
      "6*x+3\n"
     ]
    }
   ],
   "source": [
    "exp=input(\"enter an expression: \")\n",
    "s=\"\"\n",
    "for i in range(0,len(exp)):\n",
    "        print(i)\n",
    "        if i==len(exp)-1:\n",
    "            print(\"index out of bounds\")\n",
    "        elif exp[i].isdigit() and exp[i+1].isalpha():  \n",
    "            s+=exp[i]+\"*\"\n",
    "        elif exp[i].isalpha() and exp[i+1].isalpha(): \n",
    "            s+=exp[i]+\"*\"\n",
    "        elif exp[i].isdigit() and exp[i+1]=='(':\n",
    "            s+=exp[i]+\"*\"\n",
    "        elif exp[i].isalpha() and exp[i+1]=='(':\n",
    "            s+=exp[i]+\"*\"\n",
    "        else:\n",
    "            s+=exp[i]\n",
    "s+=exp[i]\n",
    "print(s)"
   ]
  },
  {
   "cell_type": "code",
   "execution_count": 3,
   "id": "a50442d6",
   "metadata": {},
   "outputs": [
    {
     "name": "stdout",
     "output_type": "stream",
     "text": [
      "[97, 82, 2, 72, 24, 3, 9, 40, 62, 15, 21, 22, 97, 70, 61, 71, 11, 46, 76, 21]\n",
      "maximum number: 97\n",
      "maximum number: 2\n",
      "[2, 3, 9, 11, 15, 21, 21, 22, 24, 40, 46, 61, 62, 70, 71, 72, 76, 82, 97, 97]\n",
      "second largest is: 3\n",
      "second highest is: 97\n",
      "average : 474.6\n",
      "number of evens: 10\n"
     ]
    }
   ],
   "source": [
    "import random\n",
    "l=list()\n",
    "sum=0\n",
    "ln=len(l)\n",
    "c=0\n",
    "for i in range(0,20):\n",
    "    rand=random.randint(1,100)\n",
    "    l.append(rand)\n",
    "    for j in l:\n",
    "        sum=sum+j\n",
    "    if i%2==0:\n",
    "        c+=1\n",
    "print(l)\n",
    "print(\"maximum number:\",max(l))\n",
    "print(\"maximum number:\",min(l))\n",
    "l.sort()\n",
    "print(l)\n",
    "print(\"second largest is:\",l[1])\n",
    "print(\"second highest is:\",l[ln-2])\n",
    "print(\"average :\",sum/len(l))\n",
    "print(\"number of evens:\",c)"
   ]
  },
  {
   "cell_type": "code",
   "execution_count": 18,
   "id": "0fc4d81b",
   "metadata": {},
   "outputs": [
    {
     "name": "stdout",
     "output_type": "stream",
     "text": [
      "enter a number:8762\n",
      "sum= 23\n"
     ]
    }
   ],
   "source": [
    "\n",
    "    n=int(input(\"enter a number:\"))  #23 \n",
    "    sum=0\n",
    "    while n>0: \n",
    "        div=n%10 \n",
    "        n=n//10  \n",
    "        sum=sum+div \n",
    "    print(\"sum=\",sum)\n"
   ]
  },
  {
   "cell_type": "code",
   "execution_count": 19,
   "id": "b8427d57",
   "metadata": {},
   "outputs": [
    {
     "name": "stdout",
     "output_type": "stream",
     "text": [
      "enter a number50\n",
      "1\n",
      "2\n",
      "5\n",
      "10\n",
      "25\n"
     ]
    }
   ],
   "source": [
    "n=int(input(\"enter a number\"))\n",
    "if n<0:\n",
    "    print(\"you entered a negative number\")\n",
    "if n==0:\n",
    "    print(\"no factors for zero\")\n",
    "else:\n",
    "    for i in range(1,n):\n",
    "        if n%i==0:\n",
    "            print(i)"
   ]
  },
  {
   "cell_type": "code",
   "execution_count": 1,
   "id": "e3426bc2",
   "metadata": {},
   "outputs": [
    {
     "name": "stdout",
     "output_type": "stream",
     "text": [
      "enter number of rows4\n",
      "****\n",
      "***\n",
      "**\n",
      "*\n"
     ]
    }
   ],
   "source": [
    "row = int(input(\"enter number of rows\"))\n",
    "for i in range(0,row):\n",
    "    for j in range(row-i):\n",
    "        print(\"\",end='')\n",
    "    print()"
   ]
  },
  {
   "cell_type": "code",
   "execution_count": 6,
   "id": "b6bfe94d",
   "metadata": {},
   "outputs": [
    {
     "name": "stdout",
     "output_type": "stream",
     "text": [
      "enter number of rows4\n",
      "*\n",
      "**\n",
      "***\n",
      "****\n"
     ]
    }
   ],
   "source": [
    "row = int(input(\"enter number of rows\"))\n",
    "for i in range(0,row):\n",
    "    for j in range(i+1):\n",
    "        print(\"*\",end='') \n",
    "    print()"
   ]
  },
  {
   "cell_type": "code",
   "execution_count": null,
   "id": "af715f72",
   "metadata": {},
   "outputs": [],
   "source": []
  }
 ],
 "metadata": {
  "kernelspec": {
   "display_name": "Python 3 (ipykernel)",
   "language": "python",
   "name": "python3"
  },
  "language_info": {
   "codemirror_mode": {
    "name": "ipython",
    "version": 3
   },
   "file_extension": ".py",
   "mimetype": "text/x-python",
   "name": "python",
   "nbconvert_exporter": "python",
   "pygments_lexer": "ipython3",
   "version": "3.9.7"
  }
 },
 "nbformat": 4,
 "nbformat_minor": 5
}
